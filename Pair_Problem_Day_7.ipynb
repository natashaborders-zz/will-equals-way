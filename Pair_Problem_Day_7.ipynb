{
 "cells": [
  {
   "cell_type": "markdown",
   "metadata": {},
   "source": [
    "Pair Problem\n",
    "The data for this problem are the numbers 2, 7, 1, 5, and 10.\n",
    "\n",
    "We want to know which of the numbers from 0 to 10 (by tenths) gives the smallest result when we do the following:\n",
    "\n",
    "For each of the numbers in the data, subtract the candidate number and then square the result, then add up these numbers.\n",
    "\n",
    "For example, to test the candidate number 8.2, we do the following:\n",
    "```\n",
    "2 - 8.2 = -6.2\n",
    "         (-6.2)**2 = 38.44\n",
    "7 - 8.2 = -1.2\n",
    "         (-1.2)**2 = 1.44\n",
    "1 - 8.2 = -7.2\n",
    "         (-7.2)**2 = 51.84\n",
    "5 - 8.2 = -3.2\n",
    "         (-3.2)**2 = 10.24\n",
    "10 - 8.2 = 1.8\n",
    "           1.8**2  = 3.24\n",
    "\n",
    "38.44 + 1.44 + 51.84 + 10.24 + 3.24 = 105.2\n",
    "```\n",
    "For candidate number 8.2, the result is 105.2. Can we get a smaller result for any of the other candidate numbers? Try them all and find the candidate number that gives the smallest result.\n",
    "\n",
    "You might identify a shortcut to solving this problem. Write the code to try all the candidate numbers anyway.\n",
    "\n",
    "Once you have an answer, also make a plot to show the results for all the candidate numbers.\n",
    "\n",
    "As an extension, consider what class of problem this exercise represents. Can you write a general solution? Can you write a faster general solution?"
   ]
  },
  {
   "cell_type": "code",
   "execution_count": 43,
   "metadata": {},
   "outputs": [],
   "source": [
    "import numpy as np\n",
    "import matplotlib\n",
    "import matplotlib.pyplot as plt"
   ]
  },
  {
   "cell_type": "code",
   "execution_count": 9,
   "metadata": {},
   "outputs": [],
   "source": [
    "num_list = np.arange(0.0,10.0, 0.1)"
   ]
  },
  {
   "cell_type": "code",
   "execution_count": 10,
   "metadata": {},
   "outputs": [
    {
     "data": {
      "text/plain": [
       "array([0. , 0.1, 0.2, 0.3, 0.4, 0.5, 0.6, 0.7, 0.8, 0.9, 1. , 1.1, 1.2,\n",
       "       1.3, 1.4, 1.5, 1.6, 1.7, 1.8, 1.9, 2. , 2.1, 2.2, 2.3, 2.4, 2.5,\n",
       "       2.6, 2.7, 2.8, 2.9, 3. , 3.1, 3.2, 3.3, 3.4, 3.5, 3.6, 3.7, 3.8,\n",
       "       3.9, 4. , 4.1, 4.2, 4.3, 4.4, 4.5, 4.6, 4.7, 4.8, 4.9, 5. , 5.1,\n",
       "       5.2, 5.3, 5.4, 5.5, 5.6, 5.7, 5.8, 5.9, 6. , 6.1, 6.2, 6.3, 6.4,\n",
       "       6.5, 6.6, 6.7, 6.8, 6.9, 7. , 7.1, 7.2, 7.3, 7.4, 7.5, 7.6, 7.7,\n",
       "       7.8, 7.9, 8. , 8.1, 8.2, 8.3, 8.4, 8.5, 8.6, 8.7, 8.8, 8.9, 9. ,\n",
       "       9.1, 9.2, 9.3, 9.4, 9.5, 9.6, 9.7, 9.8, 9.9])"
      ]
     },
     "execution_count": 10,
     "metadata": {},
     "output_type": "execute_result"
    }
   ],
   "source": [
    "num_list"
   ]
  },
  {
   "cell_type": "code",
   "execution_count": 62,
   "metadata": {},
   "outputs": [],
   "source": [
    "results = []\n",
    "nums = []\n",
    "\n",
    "def minimum(num_list):\n",
    "    for num in num_list:\n",
    "        result = (2 - num)**2+(7-num)**2+(1-num)**2+(5-num)**2+(10-num)**2\n",
    "        nums.append(num)\n",
    "        results.append(result)\n",
    "    return min(results), nums[results.index(min(results))]\n"
   ]
  },
  {
   "cell_type": "code",
   "execution_count": 63,
   "metadata": {
    "scrolled": true
   },
   "outputs": [
    {
     "data": {
      "text/plain": [
       "(54.0, 5.0)"
      ]
     },
     "execution_count": 63,
     "metadata": {},
     "output_type": "execute_result"
    }
   ],
   "source": [
    "minimum(num_list)"
   ]
  },
  {
   "cell_type": "code",
   "execution_count": 64,
   "metadata": {},
   "outputs": [
    {
     "data": {
      "image/png": "[encoded data removed]",
      "text/plain": [
       "<Figure size 432x288 with 1 Axes>"
      ]
     },
     "metadata": {
      "needs_background": "light"
     },
     "output_type": "display_data"
    }
   ],
   "source": [
    "fig, ax = plt.subplots()\n",
    "ax.plot(nums, results)\n",
    "\n",
    "ax.set(xlabel='numbers', ylabel='results',\n",
    "       title='Plot of Plots')\n",
    "ax.grid()\n",
    "\n",
    "plt.show()"
   ]
  },
  {
   "cell_type": "code",
   "execution_count": null,
   "metadata": {},
   "outputs": [],
   "source": []
  }
 ],
 "metadata": {
  "kernelspec": {
   "display_name": "Python 3",
   "language": "python",
   "name": "python3"
  },
  "language_info": {
   "codemirror_mode": {
    "name": "ipython",
    "version": 3
   },
   "file_extension": ".py",
   "mimetype": "text/x-python",
   "name": "python",
   "nbconvert_exporter": "python",
   "pygments_lexer": "ipython3",
   "version": "3.7.3"
  }
 },
 "nbformat": 4,
 "nbformat_minor": 2
}
