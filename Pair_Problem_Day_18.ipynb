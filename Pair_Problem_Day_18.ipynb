{
 "cells": [
  {
   "cell_type": "markdown",
   "metadata": {},
   "source": [
    "This is a classic problem. This particular wording is a variation on the text from Cracking the Coding Interview (question 9.8):\n",
    "\n",
    "For questions 1, 2 and 3, you don't need recursion. For question 4, try to see if you can do it without recursion. Then do question 4 with recursion.\n",
    "\n",
    "Given enough pennies (1 cent) and nickels (5 cents), how many ways can you make change for a given amount of cents? Your function will be def ways(cents).\n",
    "\n",
    "Example: ways(12) will return 3. (Because there are three ways: 2 nickels and 2 pennies, 1 nickels and 7 pennies, 12 pennies.)\n",
    "\n",
    "Given enough pennies (1 cent), nickels (5 cents) and dimes (10 cents), how many ways can you make change?\n",
    "\n",
    "Given enough pennies (1 cent), nickels (5 cents), dimes (10 cents) and quarters (25 cents), how many ways can you make change?\n",
    "\n",
    "Given an arbitrary set of coin types, how many ways can you make change? Your function will now look like this:\n",
    "\n",
    "def ways(cents,coinTypes):\n",
    "\n",
    "And you will call it this way:\n",
    "\n",
    "ways(100,[25, 10, 5, 1])\n",
    "242"
   ]
  },
  {
   "cell_type": "code",
   "execution_count": 42,
   "metadata": {},
   "outputs": [],
   "source": [
    "import numpy as np\n",
    "def ways(N):\n",
    "    w = 0\n",
    "    p = 1\n",
    "    n = 5\n",
    "    d = 10\n",
    "#for number of nickels, subtract n, 2n, 3n if remainder is <0 then stop.\n",
    "    max_dimes = np.floor(N/d) #2\n",
    "    max_nickles = np.floor(N/n) #4\n",
    "    remainder_dime = N-d #5\n",
    "    w+=(max_dimes*max_nickles+1)\n",
    "    return w\n",
    "        "
   ]
  },
  {
   "cell_type": "code",
   "execution_count": 44,
   "metadata": {},
   "outputs": [
    {
     "data": {
      "text/plain": [
       "11.0"
      ]
     },
     "execution_count": 44,
     "metadata": {},
     "output_type": "execute_result"
    }
   ],
   "source": [
    "ways(25)"
   ]
  },
  {
   "cell_type": "code",
   "execution_count": null,
   "metadata": {},
   "outputs": [],
   "source": [
    "#1 all pennies\n",
    "# 1 nickel\n",
    "# 2 nickles\n",
    "# 3 nickles\n",
    "#dime pennies\n",
    "#dime and nickle and pennies\n",
    "#dime and dime\n",
    "#dime and 2 nickles\n",
    "#four nickles\n",
    "#five nickles\n",
    "#two dimes and a nickel\n",
    "#three nickles and a dime"
   ]
  }
 ],
 "metadata": {
  "kernelspec": {
   "display_name": "Python 3",
   "language": "python",
   "name": "python3"
  },
  "language_info": {
   "codemirror_mode": {
    "name": "ipython",
    "version": 3
   },
   "file_extension": ".py",
   "mimetype": "text/x-python",
   "name": "python",
   "nbconvert_exporter": "python",
   "pygments_lexer": "ipython3",
   "version": "3.7.3"
  }
 },
 "nbformat": 4,
 "nbformat_minor": 2
}
