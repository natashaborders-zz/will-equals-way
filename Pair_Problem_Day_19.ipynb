{
 "cells": [
  {
   "cell_type": "markdown",
   "metadata": {},
   "source": [
    "Above is a gameboard of length 4. You start your coin at position 0 and you want to end at position 4. You have N moves. In each move, you have two options, One space forward or stay put. And you can never step outside the board. And at the end of your last move, you want to be at the last square.\n",
    "\n",
    "Given a board of length D and N moves, calculate the number of possible solutions.\n",
    "\n",
    "For the example above, D = 4. Let's say N = 5. Then we have,\n",
    "\n",
    "FFFFS\n",
    "FFFSF\n",
    "FFSFF\n",
    "FSFFF\n",
    "SFFFF\n",
    "That gives a total of 5 solutions.\n",
    "\n",
    "Write a function \"def Way(n,d)\" that would return the number of possible solutions.\n",
    "\n",
    "See if you can do this without recursion and with recursion.\n",
    "\n",
    "This problem is not trivial. So take your time to think, talk and work it out.\n",
    "\n",
    "Extension\n",
    "If you are done, try this extension:\n",
    "\n",
    "In addition to a forward and stay move, you now also have the option to move backwards.\n",
    "\n",
    "So for D = 2 and N = 5, we would have,\n",
    "\n",
    "FFSSS\n",
    "FFBFS\n",
    "FBSFF\n",
    "Etc.\n",
    "How many possible solutions are there? Keep in mind that the board is limited and you can't step out in either direction.\n",
    "\n",
    "Again, try both recursive and non-recursive solution."
   ]
  },
  {
   "cell_type": "code",
   "execution_count": 8,
   "metadata": {},
   "outputs": [],
   "source": [
    "import math\n",
    "\n",
    "def nCr(n,r):\n",
    "    f = math.factorial\n",
    "    return f(n) /f(r) /f(n-r)\n",
    "def Way(n,d):\n",
    "#n = number of moves; #d = length of the board\n",
    "    steps = n\n",
    "    length = d\n",
    "    solution = 0\n",
    "#step one\n",
    "    if n == d:\n",
    "        solution = 1\n",
    "    elif d > n:\n",
    "        solution = 0\n",
    "    else:\n",
    "        solution = nCr(n,d)\n",
    "    return solution"
   ]
  },
  {
   "cell_type": "code",
   "execution_count": 13,
   "metadata": {},
   "outputs": [
    {
     "data": {
      "text/plain": [
       "5.0"
      ]
     },
     "execution_count": 13,
     "metadata": {},
     "output_type": "execute_result"
    }
   ],
   "source": [
    "Way(5,4)"
   ]
  },
  {
   "cell_type": "code",
   "execution_count": null,
   "metadata": {},
   "outputs": [],
   "source": []
  }
 ],
 "metadata": {
  "kernelspec": {
   "display_name": "Python 3",
   "language": "python",
   "name": "python3"
  },
  "language_info": {
   "codemirror_mode": {
    "name": "ipython",
    "version": 3
   },
   "file_extension": ".py",
   "mimetype": "text/x-python",
   "name": "python",
   "nbconvert_exporter": "python",
   "pygments_lexer": "ipython3",
   "version": "3.7.3"
  }
 },
 "nbformat": 4,
 "nbformat_minor": 2
}
