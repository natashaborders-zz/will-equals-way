{
 "cells": [
  {
   "cell_type": "code",
   "execution_count": 144,
   "metadata": {},
   "outputs": [],
   "source": [
    "import sys\n",
    "import os\n",
    "\n",
    "\n",
    "facultycsv = \"\"\"name, degree, title, email\n",
    "Scarlett L. Bellamy, Sc.D.,Associate Professor of Biostatistics,bellamys@mail.med.upenn.edu\n",
    "Warren B. Bilker,Ph.D.,Professor of Biostatistics,warren@upenn.edu\n",
    "Matthew W Bryan, PhD,Assistant Professor of Biostatistics,bryanma@upenn.edu\n",
    "Jinbo Chen, Ph.D.,Associate Professor of Biostatistics,jinboche@upenn.edu\n",
    "Susan S Ellenberg, Ph.D.,Professor of Biostatistics,sellenbe@upenn.edu\n",
    "Jonas H. Ellenberg, Ph.D.,Professor of Biostatistics,jellenbe@mail.med.upenn.edu\n",
    "Rui Feng, Ph.D,Assistant Professor of Biostatistics,ruifeng@upenn.edu\n",
    "Benjamin C. French, PhD,Associate Professor of Biostatistics,bcfrench@mail.med.upenn.edu\n",
    "Phyllis A. Gimotty, Ph.D,Professor of Biostatistics,pgimotty@upenn.edu\n",
    "Wensheng Guo, Ph.D,Professor of Biostatistics,wguo@mail.med.upenn.edu\n",
    "Yenchih Hsu, Ph.D.,Assistant Professor of Biostatistics,hsu9@mail.med.upenn.edu\n",
    "Rebecca A Hubbard, PhD,Associate Professor of Biostatistics,rhubb@mail.med.upenn.edu\n",
    "Wei-Ting Hwang, Ph.D.,Associate Professor of Biostatistics,whwang@mail.med.upenn.edu\n",
    "Marshall M. Joffe, MD MPH Ph.D,Professor of Biostatistics,mjoffe@mail.med.upenn.edu\n",
    "J. Richard Landis, B.S.Ed. M.S. Ph.D.,Professor of Biostatistics,jrlandis@mail.med.upenn.edu\n",
    "Yimei Li, Ph.D.,Assistant Professor of Biostatistics,liy3@email.chop.edu\n",
    "Mingyao Li, Ph.D.,Associate Professor of Biostatistics,mingyao@mail.med.upenn.edu\n",
    "Hongzhe Li, Ph.D,Professor of Biostatistics,hongzhe@upenn.edu\n",
    "A. Russell Localio, JD MA MPH MS PhD,Associate Professor of Biostatistics,rlocalio@upenn.edu\n",
    "Nandita Mitra, Ph.D.,Associate Professor of Biostatistics,nanditam@mail.med.upenn.edu\n",
    "Knashawn H. Morales, Sc.D.,Associate Professor of Biostatistics,knashawn@mail.med.upenn.edu\n",
    "Kathleen Joy Propert, Sc.D.,Professor of Biostatistics,propert@mail.med.upenn.edu\n",
    "Mary E. Putt, PhD ScD,Professor of Biostatistics,mputt@mail.med.upenn.edu\n",
    "Sarah Jane Ratcliffe, Ph.D.,Associate Professor of Biostatistics,sratclif@upenn.edu\n",
    "Michelle Elana Ross, PhD,Assistant Professor is Biostatistics,michross@upenn.edu\n",
    "Jason A. Roy, Ph.D.,Associate Professor of Biostatistics,jaroy@mail.med.upenn.edu\n",
    "Mary D. Sammel, Sc.D.,Professor of Biostatistics,msammel@cceb.med.upenn.edu\n",
    "Pamela Ann Shaw, PhD,Assistant Professor of Biostatistics,shawp@upenn.edu\n",
    "Russell Takeshi Shinohara,0,Assistant Professor of Biostatistics,rshi@mail.med.upenn.edu\n",
    "Haochang Shou, Ph.D.,Assistant Professor of Biostatistics,hshou@mail.med.upenn.edu\n",
    "Justine Shults, Ph.D.,Professor of Biostatistics,jshults@mail.med.upenn.edu\n",
    "Alisa Jane Stephens, Ph.D.,Assistant Professor of Biostatistics,alisaste@mail.med.upenn.edu\n",
    "Andrea Beth Troxel, ScD,Professor of Biostatistics,atroxel@mail.med.upenn.edu\n",
    "Rui Xiao, PhD,Assistant Professor of Biostatistics,rxiao@mail.med.upenn.edu\n",
    "Sharon Xiangwen Xie, Ph.D.,Associate Professor of Biostatistics,sxie@mail.med.upenn.edu\n",
    "Dawei Xie, PhD,Assistant Professor of Biostatistics,dxie@upenn.edu\n",
    "Wei (Peter) Yang, Ph.D.,Assistant Professor of Biostatistics,weiyang@mail.med.upenn.edu\"\"\"\n",
    "\n",
    "with open('faculty.csv', 'w') as f:\n",
    "    f.write(facultycsv)\n",
    "\n",
    "import csv\n",
    "import re\n",
    "\n",
    "def count_degrees(csv_file_name):\n",
    "    with open(csv_file_name) as f:\n",
    "        file_string = f.read()\n",
    "        degrees = ['M.D.', 'M.A.', 'SC.D.', 'B.S.ED.', 'PH.D.', '0', 'M.P.H.', 'M.S.', 'J.D.']\n",
    "        \n",
    "        MD_count = len(re.findall('\\\\b(?i)m\\.?d\\.?\\\\b', file_string)) #M.D. Count\n",
    "        MA_count = len(re.findall('\\\\b(?i)m\\.?a\\.?\\\\b', file_string)) # M.A. Count\n",
    "        ScD_count = len(re.findall('\\\\b(?i)sc\\.?d\\.?\\\\b', file_string)) #Sc.D. Count\n",
    "        BSEd_count = len(re.findall('\\\\b(?i)b\\.?s\\.?ed\\.?\\\\b', file_string)) # B.S.Ed. Count\n",
    "        PhD_count = len(re.findall('\\\\b(?i)ph\\.?d\\.?\\\\b', file_string)) # Ph.D. Count\n",
    "        None_count = len(re.findall('\\\\b(?i)0\\.?\\\\b', file_string)) #None Count\n",
    "        MPH_count = len(re.findall('\\\\b(?i)m\\.?p\\.?h\\.?\\\\b', file_string)) #M.P.H Count\n",
    "        MS_count = len(re.findall('\\\\b(?i)m\\.?s\\.?\\\\b', file_string)) #M.S. Count\n",
    "        JD_count = len(re.findall('\\\\b(?i)j\\.?d\\.?\\\\b', file_string)) #J.D. Count\n",
    "        \n",
    "        counts = [MD_count,MA_count,ScD_count, BSEd_count,PhD_count, None_count, MPH_count, MS_count, JD_count]\n",
    "        degrees_count_dictionary = dict(zip(degrees, counts))\n",
    "        return degrees_count_dictionary"
   ]
  },
  {
   "cell_type": "code",
   "execution_count": 145,
   "metadata": {},
   "outputs": [
    {
     "data": {
      "text/plain": [
       "{'M.D.': 1,\n",
       " 'M.A.': 1,\n",
       " 'SC.D.': 6,\n",
       " 'B.S.ED.': 1,\n",
       " 'PH.D.': 31,\n",
       " '0': 1,\n",
       " 'M.P.H.': 2,\n",
       " 'M.S.': 2,\n",
       " 'J.D.': 1}"
      ]
     },
     "execution_count": 145,
     "metadata": {},
     "output_type": "execute_result"
    }
   ],
   "source": [
    "count_degrees('faculty.csv')"
   ]
  },
  {
   "cell_type": "code",
   "execution_count": null,
   "metadata": {},
   "outputs": [],
   "source": [
    "import csv\n",
    "import re\n",
    "import warnings\n",
    "warnings.filterwarnings(\"ignore\")\n",
    "\n",
    "def count_degrees(csv_file_name):\n",
    "    with open(csv_file_name) as f:\n",
    "        file_string = f.read()\n",
    "        None_count = len(re.findall('\\\\b(?i)0\\.?\\\\b', file_string)) #None Count\n",
    "        BSEd_count = len(re.findall('\\\\b(?i)b\\.?s\\.?ed\\.?\\\\b', file_string)) # B.S.Ed. Count\n",
    "        ScD_count = len(re.findall('\\\\b(?i)sc\\.?d\\.?\\\\b', file_string)) #Sc.D. Count\n",
    "        JD_count = len(re.findall('\\\\b(?i)j\\.?d\\.?\\\\b', file_string)) #J.D. Count\n",
    "        PhD_count = len(re.findall('\\\\b(?i)ph\\.?d\\.?\\\\b', file_string)) # Ph.D. Count\n",
    "        MD_count = len(re.findall('\\\\b(?i)m\\.?d\\.?\\\\b', file_string)) #M.D. Count\n",
    "        MPH_count = len(re.findall('\\\\b(?i)m\\.?p\\.?h\\.?\\\\b', file_string)) #M.P.H Count\n",
    "        MS_count = len(re.findall('\\\\b(?i)m\\.?s\\.?\\\\b', file_string)) #M.S. Count\n",
    "        MA_count = len(re.findall('\\\\b(?i)m\\.?a\\.?\\\\b', file_string)) # M.A. Count\n",
    "        \n",
    "        degree_counts = {'None': None_count, \n",
    "                         'B.S.Ed.': BSEd_count, \n",
    "                         'Sc.D.': ScD_count, \n",
    "                         'J.D.': JD_count, \n",
    "                         'Ph.D.': PhD_count,\n",
    "                         'M.D.': MD_count,\n",
    "                         'M.P.H.': MPH_count,\n",
    "                         'M.S.': MS_count, \n",
    "                         'M.A.': MA_count}\n",
    "        print(None_count)\n",
    "        print(BSEd_count)\n",
    "        print(ScD_count)\n",
    "        print(JD_count)\n",
    "        print(PhD_count)\n",
    "        print(MD_count)\n",
    "        print(MPH_count) \n",
    "        print(MS_count)\n",
    "        print(MA_count)"
   ]
  },
  {
   "cell_type": "code",
   "execution_count": 129,
   "metadata": {},
   "outputs": [],
   "source": [
    "import csv\n",
    "import re\n",
    "import warnings\n",
    "warnings.filterwarnings(\"ignore\")\n",
    "\n",
    "def count_titles(csv_file_name):\n",
    "    with open(csv_file_name) as f:\n",
    "        file_string = f.read()\n",
    "        titles = ['professor', 'associate', 'assistant']\n",
    "        associate_count = len(re.findall('\\\\b(?i)associate professor\\.?\\\\b', file_string))\n",
    "        assistant_count = len(re.findall('\\\\b(?i)assistant professor\\.?\\\\b', file_string))\n",
    "        professor_count = len(re.findall('\\\\b(?i)professor\\.?\\\\b', file_string))- associate_count - assistant_count\n",
    "        counts = [professor_count, associate_count, assistant_count]\n",
    "        titles_count_dictionary = dict(zip(titles, counts))\n",
    "        return titles_count_dictionary"
   ]
  },
  {
   "cell_type": "code",
   "execution_count": 130,
   "metadata": {},
   "outputs": [
    {
     "data": {
      "text/plain": [
       "{'professor': 13, 'associate': 12, 'assistant': 12}"
      ]
     },
     "execution_count": 130,
     "metadata": {},
     "output_type": "execute_result"
    }
   ],
   "source": [
    "count_titles('faculty.csv')"
   ]
  },
  {
   "cell_type": "code",
   "execution_count": 149,
   "metadata": {},
   "outputs": [],
   "source": [
    "import csv\n",
    "import re\n",
    "\n",
    "\n",
    "def emails(csv_file_name):\n",
    "    with open(csv_file_name) as f:\n",
    "        file_string = f.read()\n",
    "        email_addresses = re.findall(r\"[a-z0-9\\.\\-+_]+@[a-z0-9\\.\\-+_]+\\.[a-z]+\", file_string)\n",
    "        return email_addresses"
   ]
  },
  {
   "cell_type": "code",
   "execution_count": 199,
   "metadata": {},
   "outputs": [],
   "source": [
    "import re\n",
    "\n",
    "def unique_domains(emails):\n",
    "    emails_string = str(emails)\n",
    "    email_domains = re.findall(r\"@[\\w.]+\", emails_string)\n",
    "    email_domains_unique = set(email_domains)\n",
    "    domains_only = list(email_domains_unique)\n",
    "    domains_only_after = [x[1:] for x in domains_only]\n",
    "    return domains_only_after"
   ]
  },
  {
   "cell_type": "code",
   "execution_count": 200,
   "metadata": {},
   "outputs": [
    {
     "data": {
      "text/plain": [
       "['cceb.med.upenn.edu', 'upenn.edu', 'email.chop.edu', 'mail.med.upenn.edu']"
      ]
     },
     "execution_count": 200,
     "metadata": {},
     "output_type": "execute_result"
    }
   ],
   "source": [
    "emails_test = emails('faculty.csv')\n",
    "unique_domains(emails_test)"
   ]
  },
  {
   "cell_type": "code",
   "execution_count": 350,
   "metadata": {},
   "outputs": [],
   "source": [
    "import csv\n",
    "\n",
    "def write_to_csv(list_of_emails):\n",
    "    with open('emails.csv', 'w') as csvfile:\n",
    "        emailwriter = csv.writer(csvfile)\n",
    "        emailwriter.writerow(['list_of_emails'])\n",
    "        for row in list_of_emails:\n",
    "            emailwriter.writerow(row)\n",
    "    with open('emails.csv') as f:\n",
    "        reader = csv.reader(f)\n",
    "        for row in reader:\n",
    "            print(row)"
   ]
  },
  {
   "cell_type": "code",
   "execution_count": 351,
   "metadata": {},
   "outputs": [
    {
     "name": "stdout",
     "output_type": "stream",
     "text": [
      "['list_of_emails']\n",
      "['e', 'm', 'a', 'i', 'l', '@', 'd', 'o', 'm', 'a', 'i', 'n', '.', 'c', 'o', 'm']\n",
      "['o', 't', 'h', 'e', 'r', 'e', 'm', 'a', 'i', 'l', '@', 'd', 'o', 'm', 'a', 'i', 'n', '.', 'c', 'o', 'm']\n"
     ]
    }
   ],
   "source": [
    "list_of_emails_test = ['email@domain.com', 'otheremail@domain.com']\n",
    "write_to_csv(list_of_emails_test)"
   ]
  },
  {
   "cell_type": "code",
   "execution_count": 352,
   "metadata": {},
   "outputs": [],
   "source": [
    "import csv\n",
    "\n",
    "def write_to_csv(list_of_emails):\n",
    "    with open('emails.csv','w', ) as f:\n",
    "        writer = csv.writer(f)\n",
    "        writer.writerow(['list_of_emails'])\n",
    "        for item in list_of_emails:\n",
    "            writer.writerow([item])\n",
    "    with open('emails.csv') as f:\n",
    "        reader = csv.reader(f)\n",
    "        for row in reader:\n",
    "            print(row)\n",
    "            "
   ]
  },
  {
   "cell_type": "code",
   "execution_count": 353,
   "metadata": {},
   "outputs": [
    {
     "name": "stdout",
     "output_type": "stream",
     "text": [
      "['list_of_emails']\n",
      "['email@domain.com']\n",
      "['otheremail@domain.com']\n"
     ]
    }
   ],
   "source": [
    "list_of_emails_test = ['email@domain.com', 'otheremail@domain.com']\n",
    "write_to_csv(list_of_emails_test)"
   ]
  },
  {
   "cell_type": "code",
   "execution_count": 462,
   "metadata": {},
   "outputs": [],
   "source": [
    "#!/bin/python3\n",
    "\n",
    "import sys\n",
    "import os\n",
    "\n",
    "\n",
    "facultycsv = \"\"\"name, degree, title, email\n",
    "Scarlett L. Bellamy, Sc.D.,Associate Professor of Biostatistics,bellamys@mail.med.upenn.edu\n",
    "Warren B. Bilker,Ph.D.,Professor of Biostatistics,warren@upenn.edu\n",
    "Matthew W Bryan, PhD,Assistant Professor of Biostatistics,bryanma@upenn.edu\n",
    "Jinbo Chen, Ph.D.,Associate Professor of Biostatistics,jinboche@upenn.edu\n",
    "Susan S Ellenberg, Ph.D.,Professor of Biostatistics,sellenbe@upenn.edu\n",
    "Jonas H. Ellenberg, Ph.D.,Professor of Biostatistics,jellenbe@mail.med.upenn.edu\n",
    "Rui Feng, Ph.D,Assistant Professor of Biostatistics,ruifeng@upenn.edu\n",
    "Benjamin C. French, PhD,Associate Professor of Biostatistics,bcfrench@mail.med.upenn.edu\n",
    "Phyllis A. Gimotty, Ph.D,Professor of Biostatistics,pgimotty@upenn.edu\n",
    "Wensheng Guo, Ph.D,Professor of Biostatistics,wguo@mail.med.upenn.edu\n",
    "Yenchih Hsu, Ph.D.,Assistant Professor of Biostatistics,hsu9@mail.med.upenn.edu\n",
    "Rebecca A Hubbard, PhD,Associate Professor of Biostatistics,rhubb@mail.med.upenn.edu\n",
    "Wei-Ting Hwang, Ph.D.,Associate Professor of Biostatistics,whwang@mail.med.upenn.edu\n",
    "Marshall M. Joffe, MD MPH Ph.D,Professor of Biostatistics,mjoffe@mail.med.upenn.edu\n",
    "J. Richard Landis, B.S.Ed. M.S. Ph.D.,Professor of Biostatistics,jrlandis@mail.med.upenn.edu\n",
    "Yimei Li, Ph.D.,Assistant Professor of Biostatistics,liy3@email.chop.edu\n",
    "Mingyao Li, Ph.D.,Associate Professor of Biostatistics,mingyao@mail.med.upenn.edu\n",
    "Hongzhe Li, Ph.D,Professor of Biostatistics,hongzhe@upenn.edu\n",
    "A. Russell Localio, JD MA MPH MS PhD,Associate Professor of Biostatistics,rlocalio@upenn.edu\n",
    "Nandita Mitra, Ph.D.,Associate Professor of Biostatistics,nanditam@mail.med.upenn.edu\n",
    "Knashawn H. Morales, Sc.D.,Associate Professor of Biostatistics,knashawn@mail.med.upenn.edu\n",
    "Kathleen Joy Propert, Sc.D.,Professor of Biostatistics,propert@mail.med.upenn.edu\n",
    "Mary E. Putt, PhD ScD,Professor of Biostatistics,mputt@mail.med.upenn.edu\n",
    "Sarah Jane Ratcliffe, Ph.D.,Associate Professor of Biostatistics,sratclif@upenn.edu\n",
    "Michelle Elana Ross, PhD,Assistant Professor is Biostatistics,michross@upenn.edu\n",
    "Jason A. Roy, Ph.D.,Associate Professor of Biostatistics,jaroy@mail.med.upenn.edu\n",
    "Mary D. Sammel, Sc.D.,Professor of Biostatistics,msammel@cceb.med.upenn.edu\n",
    "Pamela Ann Shaw, PhD,Assistant Professor of Biostatistics,shawp@upenn.edu\n",
    "Russell Takeshi Shinohara,0,Assistant Professor of Biostatistics,rshi@mail.med.upenn.edu\n",
    "Haochang Shou, Ph.D.,Assistant Professor of Biostatistics,hshou@mail.med.upenn.edu\n",
    "Justine Shults, Ph.D.,Professor of Biostatistics,jshults@mail.med.upenn.edu\n",
    "Alisa Jane Stephens, Ph.D.,Assistant Professor of Biostatistics,alisaste@mail.med.upenn.edu\n",
    "Andrea Beth Troxel, ScD,Professor of Biostatistics,atroxel@mail.med.upenn.edu\n",
    "Rui Xiao, PhD,Assistant Professor of Biostatistics,rxiao@mail.med.upenn.edu\n",
    "Sharon Xiangwen Xie, Ph.D.,Associate Professor of Biostatistics,sxie@mail.med.upenn.edu\n",
    "Dawei Xie, PhD,Assistant Professor of Biostatistics,dxie@upenn.edu\n",
    "Wei (Peter) Yang, Ph.D.,Assistant Professor of Biostatistics,weiyang@mail.med.upenn.edu\"\"\"\n",
    "\n",
    "with open('faculty.csv', 'w') as f:\n",
    "    f.write(facultycsv)\n",
    "\n",
    "# Complete the function below.\n",
    "# Read the csv file \"faculty.csv\"\n",
    "# Don't hit the url in the problem description.\n",
    "\n",
    "def get_dict():\n",
    "    faculty_dict = csv.reader(open('faculty.csv'))\n",
    "    faculty_dict_result = {}\n",
    "    for row in faculty_dict:\n",
    "        name = row[0].split()\n",
    "        last_name = name[-1]\n",
    "        info = row[1:]\n",
    "        key = last_name\n",
    "        if key in faculty_dict_result:\n",
    "            faculty_dict_result[key].append(info)\n",
    "        else:\n",
    "            faculty_dict_result[key]=[info]\n",
    "    del faculty_dict_result['name']\n",
    "    return faculty_dict_result"
   ]
  },
  {
   "cell_type": "code",
   "execution_count": 463,
   "metadata": {},
   "outputs": [
    {
     "name": "stdout",
     "output_type": "stream",
     "text": [
      "{'Bellamy': [[' Sc.D.', 'Associate Professor of Biostatistics', 'bellamys@mail.med.upenn.edu']], 'Bilker': [['Ph.D.', 'Professor of Biostatistics', 'warren@upenn.edu']], 'Bryan': [[' PhD', 'Assistant Professor of Biostatistics', 'bryanma@upenn.edu']], 'Chen': [[' Ph.D.', 'Associate Professor of Biostatistics', 'jinboche@upenn.edu']], 'Ellenberg': [[' Ph.D.', 'Professor of Biostatistics', 'sellenbe@upenn.edu'], [' Ph.D.', 'Professor of Biostatistics', 'jellenbe@mail.med.upenn.edu']], 'Feng': [[' Ph.D', 'Assistant Professor of Biostatistics', 'ruifeng@upenn.edu']], 'French': [[' PhD', 'Associate Professor of Biostatistics', 'bcfrench@mail.med.upenn.edu']], 'Gimotty': [[' Ph.D', 'Professor of Biostatistics', 'pgimotty@upenn.edu']], 'Guo': [[' Ph.D', 'Professor of Biostatistics', 'wguo@mail.med.upenn.edu']], 'Hsu': [[' Ph.D.', 'Assistant Professor of Biostatistics', 'hsu9@mail.med.upenn.edu']], 'Hubbard': [[' PhD', 'Associate Professor of Biostatistics', 'rhubb@mail.med.upenn.edu']], 'Hwang': [[' Ph.D.', 'Associate Professor of Biostatistics', 'whwang@mail.med.upenn.edu']], 'Joffe': [[' MD MPH Ph.D', 'Professor of Biostatistics', 'mjoffe@mail.med.upenn.edu']], 'Landis': [[' B.S.Ed. M.S. Ph.D.', 'Professor of Biostatistics', 'jrlandis@mail.med.upenn.edu']], 'Li': [[' Ph.D.', 'Assistant Professor of Biostatistics', 'liy3@email.chop.edu'], [' Ph.D.', 'Associate Professor of Biostatistics', 'mingyao@mail.med.upenn.edu'], [' Ph.D', 'Professor of Biostatistics', 'hongzhe@upenn.edu']], 'Localio': [[' JD MA MPH MS PhD', 'Associate Professor of Biostatistics', 'rlocalio@upenn.edu']], 'Mitra': [[' Ph.D.', 'Associate Professor of Biostatistics', 'nanditam@mail.med.upenn.edu']], 'Morales': [[' Sc.D.', 'Associate Professor of Biostatistics', 'knashawn@mail.med.upenn.edu']], 'Propert': [[' Sc.D.', 'Professor of Biostatistics', 'propert@mail.med.upenn.edu']], 'Putt': [[' PhD ScD', 'Professor of Biostatistics', 'mputt@mail.med.upenn.edu']], 'Ratcliffe': [[' Ph.D.', 'Associate Professor of Biostatistics', 'sratclif@upenn.edu']], 'Ross': [[' PhD', 'Assistant Professor is Biostatistics', 'michross@upenn.edu']], 'Roy': [[' Ph.D.', 'Associate Professor of Biostatistics', 'jaroy@mail.med.upenn.edu']], 'Sammel': [[' Sc.D.', 'Professor of Biostatistics', 'msammel@cceb.med.upenn.edu']], 'Shaw': [[' PhD', 'Assistant Professor of Biostatistics', 'shawp@upenn.edu']], 'Shinohara': [['0', 'Assistant Professor of Biostatistics', 'rshi@mail.med.upenn.edu']], 'Shou': [[' Ph.D.', 'Assistant Professor of Biostatistics', 'hshou@mail.med.upenn.edu']], 'Shults': [[' Ph.D.', 'Professor of Biostatistics', 'jshults@mail.med.upenn.edu']], 'Stephens': [[' Ph.D.', 'Assistant Professor of Biostatistics', 'alisaste@mail.med.upenn.edu']], 'Troxel': [[' ScD', 'Professor of Biostatistics', 'atroxel@mail.med.upenn.edu']], 'Xiao': [[' PhD', 'Assistant Professor of Biostatistics', 'rxiao@mail.med.upenn.edu']], 'Xie': [[' Ph.D.', 'Associate Professor of Biostatistics', 'sxie@mail.med.upenn.edu'], [' PhD', 'Assistant Professor of Biostatistics', 'dxie@upenn.edu']], 'Yang': [[' Ph.D.', 'Assistant Professor of Biostatistics', 'weiyang@mail.med.upenn.edu']]}\n"
     ]
    }
   ],
   "source": [
    "answer = get_dict()\n",
    "print(answer)"
   ]
  },
  {
   "cell_type": "code",
   "execution_count": 495,
   "metadata": {},
   "outputs": [],
   "source": [
    "#!/bin/python3\n",
    "\n",
    "import sys\n",
    "import os\n",
    "\n",
    "\n",
    "facultycsv = \"\"\"name, degree, title, email\n",
    "Scarlett L. Bellamy, Sc.D.,Associate Professor of Biostatistics,bellamys@mail.med.upenn.edu\n",
    "Warren B. Bilker,Ph.D.,Professor of Biostatistics,warren@upenn.edu\n",
    "Matthew W Bryan, PhD,Assistant Professor of Biostatistics,bryanma@upenn.edu\n",
    "Jinbo Chen, Ph.D.,Associate Professor of Biostatistics,jinboche@upenn.edu\n",
    "Susan S Ellenberg, Ph.D.,Professor of Biostatistics,sellenbe@upenn.edu\n",
    "Jonas H. Ellenberg, Ph.D.,Professor of Biostatistics,jellenbe@mail.med.upenn.edu\n",
    "Rui Feng, Ph.D,Assistant Professor of Biostatistics,ruifeng@upenn.edu\n",
    "Benjamin C. French, PhD,Associate Professor of Biostatistics,bcfrench@mail.med.upenn.edu\n",
    "Phyllis A. Gimotty, Ph.D,Professor of Biostatistics,pgimotty@upenn.edu\n",
    "Wensheng Guo, Ph.D,Professor of Biostatistics,wguo@mail.med.upenn.edu\n",
    "Yenchih Hsu, Ph.D.,Assistant Professor of Biostatistics,hsu9@mail.med.upenn.edu\n",
    "Rebecca A Hubbard, PhD,Associate Professor of Biostatistics,rhubb@mail.med.upenn.edu\n",
    "Wei-Ting Hwang, Ph.D.,Associate Professor of Biostatistics,whwang@mail.med.upenn.edu\n",
    "Marshall M. Joffe, MD MPH Ph.D,Professor of Biostatistics,mjoffe@mail.med.upenn.edu\n",
    "J. Richard Landis, B.S.Ed. M.S. Ph.D.,Professor of Biostatistics,jrlandis@mail.med.upenn.edu\n",
    "Yimei Li, Ph.D.,Assistant Professor of Biostatistics,liy3@email.chop.edu\n",
    "Mingyao Li, Ph.D.,Associate Professor of Biostatistics,mingyao@mail.med.upenn.edu\n",
    "Hongzhe Li, Ph.D,Professor of Biostatistics,hongzhe@upenn.edu\n",
    "A. Russell Localio, JD MA MPH MS PhD,Associate Professor of Biostatistics,rlocalio@upenn.edu\n",
    "Nandita Mitra, Ph.D.,Associate Professor of Biostatistics,nanditam@mail.med.upenn.edu\n",
    "Knashawn H. Morales, Sc.D.,Associate Professor of Biostatistics,knashawn@mail.med.upenn.edu\n",
    "Kathleen Joy Propert, Sc.D.,Professor of Biostatistics,propert@mail.med.upenn.edu\n",
    "Mary E. Putt, PhD ScD,Professor of Biostatistics,mputt@mail.med.upenn.edu\n",
    "Sarah Jane Ratcliffe, Ph.D.,Associate Professor of Biostatistics,sratclif@upenn.edu\n",
    "Michelle Elana Ross, PhD,Assistant Professor is Biostatistics,michross@upenn.edu\n",
    "Jason A. Roy, Ph.D.,Associate Professor of Biostatistics,jaroy@mail.med.upenn.edu\n",
    "Mary D. Sammel, Sc.D.,Professor of Biostatistics,msammel@cceb.med.upenn.edu\n",
    "Pamela Ann Shaw, PhD,Assistant Professor of Biostatistics,shawp@upenn.edu\n",
    "Russell Takeshi Shinohara,0,Assistant Professor of Biostatistics,rshi@mail.med.upenn.edu\n",
    "Haochang Shou, Ph.D.,Assistant Professor of Biostatistics,hshou@mail.med.upenn.edu\n",
    "Justine Shults, Ph.D.,Professor of Biostatistics,jshults@mail.med.upenn.edu\n",
    "Alisa Jane Stephens, Ph.D.,Assistant Professor of Biostatistics,alisaste@mail.med.upenn.edu\n",
    "Andrea Beth Troxel, ScD,Professor of Biostatistics,atroxel@mail.med.upenn.edu\n",
    "Rui Xiao, PhD,Assistant Professor of Biostatistics,rxiao@mail.med.upenn.edu\n",
    "Sharon Xiangwen Xie, Ph.D.,Associate Professor of Biostatistics,sxie@mail.med.upenn.edu\n",
    "Dawei Xie, PhD,Assistant Professor of Biostatistics,dxie@upenn.edu\n",
    "Wei (Peter) Yang, Ph.D.,Assistant Professor of Biostatistics,weiyang@mail.med.upenn.edu\"\"\"\n",
    "\n",
    "with open('faculty.csv', 'w') as f:\n",
    "    f.write(facultycsv)\n",
    "\n",
    "# Complete the function below.\n",
    "\n",
    "def get_dict():\n",
    "    faculty_dict = csv.reader(open('faculty.csv'))\n",
    "    faculty_dict_result = {}\n",
    "    for row in faculty_dict:\n",
    "        name = row[0].split(' ')\n",
    "        info = row[1:]\n",
    "        key = tuple(name)\n",
    "        faculty_dict_result[key]=info\n",
    "    del faculty_dict_result[('name',)]\n",
    "    return faculty_dict_result"
   ]
  },
  {
   "cell_type": "code",
   "execution_count": 497,
   "metadata": {},
   "outputs": [
    {
     "data": {
      "text/plain": [
       "{('Scarlett', 'L.', 'Bellamy'): [' Sc.D.',\n",
       "  'Associate Professor of Biostatistics',\n",
       "  'bellamys@mail.med.upenn.edu'],\n",
       " ('Warren', 'B.', 'Bilker'): ['Ph.D.',\n",
       "  'Professor of Biostatistics',\n",
       "  'warren@upenn.edu'],\n",
       " ('Matthew', 'W', 'Bryan'): [' PhD',\n",
       "  'Assistant Professor of Biostatistics',\n",
       "  'bryanma@upenn.edu'],\n",
       " ('Jinbo', 'Chen'): [' Ph.D.',\n",
       "  'Associate Professor of Biostatistics',\n",
       "  'jinboche@upenn.edu'],\n",
       " ('Susan', 'S', 'Ellenberg'): [' Ph.D.',\n",
       "  'Professor of Biostatistics',\n",
       "  'sellenbe@upenn.edu'],\n",
       " ('Jonas', 'H.', 'Ellenberg'): [' Ph.D.',\n",
       "  'Professor of Biostatistics',\n",
       "  'jellenbe@mail.med.upenn.edu'],\n",
       " ('Rui', 'Feng'): [' Ph.D',\n",
       "  'Assistant Professor of Biostatistics',\n",
       "  'ruifeng@upenn.edu'],\n",
       " ('Benjamin', 'C.', 'French'): [' PhD',\n",
       "  'Associate Professor of Biostatistics',\n",
       "  'bcfrench@mail.med.upenn.edu'],\n",
       " ('Phyllis', 'A.', 'Gimotty'): [' Ph.D',\n",
       "  'Professor of Biostatistics',\n",
       "  'pgimotty@upenn.edu'],\n",
       " ('Wensheng', 'Guo'): [' Ph.D',\n",
       "  'Professor of Biostatistics',\n",
       "  'wguo@mail.med.upenn.edu'],\n",
       " ('Yenchih', 'Hsu'): [' Ph.D.',\n",
       "  'Assistant Professor of Biostatistics',\n",
       "  'hsu9@mail.med.upenn.edu'],\n",
       " ('Rebecca', 'A', 'Hubbard'): [' PhD',\n",
       "  'Associate Professor of Biostatistics',\n",
       "  'rhubb@mail.med.upenn.edu'],\n",
       " ('Wei-Ting', 'Hwang'): [' Ph.D.',\n",
       "  'Associate Professor of Biostatistics',\n",
       "  'whwang@mail.med.upenn.edu'],\n",
       " ('Marshall', 'M.', 'Joffe'): [' MD MPH Ph.D',\n",
       "  'Professor of Biostatistics',\n",
       "  'mjoffe@mail.med.upenn.edu'],\n",
       " ('J.', 'Richard', 'Landis'): [' B.S.Ed. M.S. Ph.D.',\n",
       "  'Professor of Biostatistics',\n",
       "  'jrlandis@mail.med.upenn.edu'],\n",
       " ('Yimei', 'Li'): [' Ph.D.',\n",
       "  'Assistant Professor of Biostatistics',\n",
       "  'liy3@email.chop.edu'],\n",
       " ('Mingyao', 'Li'): [' Ph.D.',\n",
       "  'Associate Professor of Biostatistics',\n",
       "  'mingyao@mail.med.upenn.edu'],\n",
       " ('Hongzhe', 'Li'): [' Ph.D',\n",
       "  'Professor of Biostatistics',\n",
       "  'hongzhe@upenn.edu'],\n",
       " ('A.', 'Russell', 'Localio'): [' JD MA MPH MS PhD',\n",
       "  'Associate Professor of Biostatistics',\n",
       "  'rlocalio@upenn.edu'],\n",
       " ('Nandita', 'Mitra'): [' Ph.D.',\n",
       "  'Associate Professor of Biostatistics',\n",
       "  'nanditam@mail.med.upenn.edu'],\n",
       " ('Knashawn', 'H.', 'Morales'): [' Sc.D.',\n",
       "  'Associate Professor of Biostatistics',\n",
       "  'knashawn@mail.med.upenn.edu'],\n",
       " ('Kathleen', 'Joy', 'Propert'): [' Sc.D.',\n",
       "  'Professor of Biostatistics',\n",
       "  'propert@mail.med.upenn.edu'],\n",
       " ('Mary', 'E.', 'Putt'): [' PhD ScD',\n",
       "  'Professor of Biostatistics',\n",
       "  'mputt@mail.med.upenn.edu'],\n",
       " ('Sarah', 'Jane', 'Ratcliffe'): [' Ph.D.',\n",
       "  'Associate Professor of Biostatistics',\n",
       "  'sratclif@upenn.edu'],\n",
       " ('Michelle', 'Elana', 'Ross'): [' PhD',\n",
       "  'Assistant Professor is Biostatistics',\n",
       "  'michross@upenn.edu'],\n",
       " ('Jason', 'A.', 'Roy'): [' Ph.D.',\n",
       "  'Associate Professor of Biostatistics',\n",
       "  'jaroy@mail.med.upenn.edu'],\n",
       " ('Mary', 'D.', 'Sammel'): [' Sc.D.',\n",
       "  'Professor of Biostatistics',\n",
       "  'msammel@cceb.med.upenn.edu'],\n",
       " ('Pamela', 'Ann', 'Shaw'): [' PhD',\n",
       "  'Assistant Professor of Biostatistics',\n",
       "  'shawp@upenn.edu'],\n",
       " ('Russell', 'Takeshi', 'Shinohara'): ['0',\n",
       "  'Assistant Professor of Biostatistics',\n",
       "  'rshi@mail.med.upenn.edu'],\n",
       " ('Haochang', 'Shou'): [' Ph.D.',\n",
       "  'Assistant Professor of Biostatistics',\n",
       "  'hshou@mail.med.upenn.edu'],\n",
       " ('Justine', 'Shults'): [' Ph.D.',\n",
       "  'Professor of Biostatistics',\n",
       "  'jshults@mail.med.upenn.edu'],\n",
       " ('Alisa', 'Jane', 'Stephens'): [' Ph.D.',\n",
       "  'Assistant Professor of Biostatistics',\n",
       "  'alisaste@mail.med.upenn.edu'],\n",
       " ('Andrea', 'Beth', 'Troxel'): [' ScD',\n",
       "  'Professor of Biostatistics',\n",
       "  'atroxel@mail.med.upenn.edu'],\n",
       " ('Rui', 'Xiao'): [' PhD',\n",
       "  'Assistant Professor of Biostatistics',\n",
       "  'rxiao@mail.med.upenn.edu'],\n",
       " ('Sharon', 'Xiangwen', 'Xie'): [' Ph.D.',\n",
       "  'Associate Professor of Biostatistics',\n",
       "  'sxie@mail.med.upenn.edu'],\n",
       " ('Dawei', 'Xie'): [' PhD',\n",
       "  'Assistant Professor of Biostatistics',\n",
       "  'dxie@upenn.edu'],\n",
       " ('Wei', '(Peter)', 'Yang'): [' Ph.D.',\n",
       "  'Assistant Professor of Biostatistics',\n",
       "  'weiyang@mail.med.upenn.edu']}"
      ]
     },
     "execution_count": 497,
     "metadata": {},
     "output_type": "execute_result"
    }
   ],
   "source": [
    "get_dict()"
   ]
  },
  {
   "cell_type": "code",
   "execution_count": null,
   "metadata": {},
   "outputs": [],
   "source": []
  }
 ],
 "metadata": {
  "kernelspec": {
   "display_name": "Python 3",
   "language": "python",
   "name": "python3"
  },
  "language_info": {
   "codemirror_mode": {
    "name": "ipython",
    "version": 3
   },
   "file_extension": ".py",
   "mimetype": "text/x-python",
   "name": "python",
   "nbconvert_exporter": "python",
   "pygments_lexer": "ipython3",
   "version": "3.7.2"
  }
 },
 "nbformat": 4,
 "nbformat_minor": 2
}
