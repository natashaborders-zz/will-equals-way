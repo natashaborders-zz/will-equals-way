{
 "cells": [
  {
   "cell_type": "code",
   "execution_count": null,
   "metadata": {},
   "outputs": [],
   "source": [
    "# go over all Complexity Questions to make sure those are correct.\n",
    "# review the rest of the answers."
   ]
  },
  {
   "cell_type": "code",
   "execution_count": 2,
   "metadata": {},
   "outputs": [
    {
     "data": {
      "text/plain": [
       "[2, 4, 6, 8]"
      ]
     },
     "execution_count": 2,
     "metadata": {},
     "output_type": "execute_result"
    }
   ],
   "source": [
    "f = lambda my_list: list(filter(lambda x: x%2==0, my_list))\n",
    "my_order = [1,2,3,4,5,6,7,8,9]\n",
    "f(my_order)"
   ]
  },
  {
   "cell_type": "code",
   "execution_count": 7,
   "metadata": {},
   "outputs": [
    {
     "name": "stdout",
     "output_type": "stream",
     "text": [
      "1\n",
      "4\n",
      "9\n",
      "16\n",
      "25\n"
     ]
    }
   ],
   "source": [
    "items_list = [1,2,3,4,5]\n",
    "def sqr(x):\n",
    "    return x**2\n",
    "items_squared = map(sqr,items_list)\n",
    "for items in items_squared:\n",
    "    print (items)"
   ]
  },
  {
   "cell_type": "code",
   "execution_count": 10,
   "metadata": {},
   "outputs": [
    {
     "name": "stdout",
     "output_type": "stream",
     "text": [
      "0\n",
      "10\n",
      "20\n",
      "30\n",
      "40\n",
      "50\n",
      "100\n"
     ]
    }
   ],
   "source": [
    "xlist = [0, 5, 10, 15, 20, 25, 30, 35, 40, 45, 50, 75,100]\n",
    "\n",
    "# Write your answer in one line, using \"filter\"\n",
    "tens_list = filter(lambda x: x%10==0, xlist)\n",
    "for items in tens_list:\n",
    "    print(items)"
   ]
  },
  {
   "cell_type": "code",
   "execution_count": 48,
   "metadata": {},
   "outputs": [],
   "source": [
    "from datetime import datetime\n",
    "\n",
    "def difference_in_days(date1, date2):\n",
    "    day_start = datetime.strptime(date1, \"%m-%d-%Y\")\n",
    "    day_stop = datetime.strptime(date2, \"%m-%d-%Y\")\n",
    "    delta = day_stop-day_start\n",
    "    return delta.days"
   ]
  },
  {
   "cell_type": "code",
   "execution_count": 49,
   "metadata": {},
   "outputs": [
    {
     "data": {
      "text/plain": [
       "3"
      ]
     },
     "execution_count": 49,
     "metadata": {},
     "output_type": "execute_result"
    }
   ],
   "source": [
    "difference_in_days('01-01-2019','01-04-2019')"
   ]
  },
  {
   "cell_type": "code",
   "execution_count": 52,
   "metadata": {},
   "outputs": [
    {
     "name": "stdout",
     "output_type": "stream",
     "text": [
      "[102.56, 97.7, 99.14, 32.0, 68.0]\n"
     ]
    }
   ],
   "source": [
    "celsius = [39.2, 36.5, 37.3, 0, 20]\n",
    "# write your answer in one line. use a list comprehension. use the variable \"celsius\"\n",
    "fahrenheit = [(n * 9/5) + 32 for n in celsius]\n",
    "print(fahrenheit)"
   ]
  },
  {
   "cell_type": "code",
   "execution_count": 56,
   "metadata": {},
   "outputs": [],
   "source": [
    "def donuts(count):\n",
    "    if count<10:\n",
    "        return \"Number of donuts: \"+ str(count)\n",
    "    else:\n",
    "        return \"Number of donuts: many\""
   ]
  },
  {
   "cell_type": "code",
   "execution_count": 57,
   "metadata": {},
   "outputs": [
    {
     "data": {
      "text/plain": [
       "'Number of donuts: many'"
      ]
     },
     "execution_count": 57,
     "metadata": {},
     "output_type": "execute_result"
    }
   ],
   "source": [
    "donuts(10)"
   ]
  },
  {
   "cell_type": "code",
   "execution_count": 58,
   "metadata": {},
   "outputs": [
    {
     "data": {
      "text/plain": [
       "'Number of donuts: 4'"
      ]
     },
     "execution_count": 58,
     "metadata": {},
     "output_type": "execute_result"
    }
   ],
   "source": [
    "donuts(4)"
   ]
  },
  {
   "cell_type": "code",
   "execution_count": 90,
   "metadata": {},
   "outputs": [],
   "source": [
    "def both_ends(s):\n",
    "    if len(s)>=2:\n",
    "        return s[:2]+s[-2::1]\n",
    "    else:\n",
    "        return ''"
   ]
  },
  {
   "cell_type": "code",
   "execution_count": 91,
   "metadata": {},
   "outputs": [
    {
     "data": {
      "text/plain": [
       "'nono'"
      ]
     },
     "execution_count": 91,
     "metadata": {},
     "output_type": "execute_result"
    }
   ],
   "source": [
    "both_ends('no')"
   ]
  },
  {
   "cell_type": "code",
   "execution_count": 131,
   "metadata": {},
   "outputs": [],
   "source": [
    "def fix_start(s):\n",
    "    s_list=list(s)\n",
    "    result = list(s_list[0])\n",
    "    for x in s_list[1:]:\n",
    "        if x==s_list[0]:\n",
    "            result.append('*')\n",
    "        else:\n",
    "            result.append(x)\n",
    "    return ''.join(result)"
   ]
  },
  {
   "cell_type": "code",
   "execution_count": 132,
   "metadata": {},
   "outputs": [
    {
     "data": {
      "text/plain": [
       "'shark*'"
      ]
     },
     "execution_count": 132,
     "metadata": {},
     "output_type": "execute_result"
    }
   ],
   "source": [
    "fix_start('sharks')"
   ]
  },
  {
   "cell_type": "code",
   "execution_count": 187,
   "metadata": {},
   "outputs": [],
   "source": [
    "def mix_up(a, b):\n",
    "    a_list = list(a)\n",
    "    b_list = list(b)\n",
    "    result1 = b_list[:2]+a_list[2:]\n",
    "    result2 = a_list[:2]+b_list[2:]\n",
    "    st1 = ''.join(result1)\n",
    "    st2 = ''.join(result2)\n",
    "    return st1+' '+st2"
   ]
  },
  {
   "cell_type": "code",
   "execution_count": 188,
   "metadata": {},
   "outputs": [
    {
     "name": "stdout",
     "output_type": "stream",
     "text": [
      "pox mid\n"
     ]
    }
   ],
   "source": [
    "print(mix_up('mix', 'pod'))"
   ]
  },
  {
   "cell_type": "code",
   "execution_count": 222,
   "metadata": {},
   "outputs": [],
   "source": [
    "def verbing(s):\n",
    "    s_list = list(s)\n",
    "    if len(s_list)<3:\n",
    "        return s\n",
    "    elif s_list[-3::1]==['i','n','g']:\n",
    "        s_list.append('l')\n",
    "        s_list.append('y')\n",
    "    else:\n",
    "        s_list.append('i')\n",
    "        s_list.append('n')\n",
    "        s_list.append('g')\n",
    "    str1 = ''.join(map(str, s_list))\n",
    "    return str1"
   ]
  },
  {
   "cell_type": "code",
   "execution_count": 224,
   "metadata": {},
   "outputs": [
    {
     "data": {
      "text/plain": [
       "'swimingly'"
      ]
     },
     "execution_count": 224,
     "metadata": {},
     "output_type": "execute_result"
    }
   ],
   "source": [
    "verbing('swiming')"
   ]
  },
  {
   "cell_type": "code",
   "execution_count": 519,
   "metadata": {},
   "outputs": [],
   "source": [
    "#Beginning of # 24.\n",
    "\n",
    "import re\n",
    "def not_bad(s):\n",
    "    s_list = re.findall(r\"[\\w']+|[.,!?;]\", s)\n",
    "    if 'bad' in s_list and 'not' in s_list:\n",
    "        if s_list.index('not')<s_list.index('bad'):\n",
    "            x = s_list.index('not')\n",
    "            y = s_list.index('bad')\n",
    "            del s_list[x:y+1]\n",
    "            s_list.insert(x, 'good')\n",
    "            str1 = ' '.join(s_list)\n",
    "            if str1.endswith(\" !\"): \n",
    "                str2 = str1[:-2]+s[-1]\n",
    "                return str2\n",
    "            elif str1.endswith(\" .\"): \n",
    "                str3 = str1[:-2]+s[-1]\n",
    "                return str3\n",
    "            elif str1.endswith(\" ?\"): \n",
    "                str4 = str1[:-2]+s[-1]\n",
    "                return str4\n",
    "            else:\n",
    "                return str1  \n",
    "        else: \n",
    "            return s\n",
    "    else:\n",
    "        return s"
   ]
  },
  {
   "cell_type": "code",
   "execution_count": 521,
   "metadata": {},
   "outputs": [
    {
     "data": {
      "text/plain": [
       "'The movie is good not that terribly bad!'"
      ]
     },
     "execution_count": 521,
     "metadata": {},
     "output_type": "execute_result"
    }
   ],
   "source": [
    "not_bad('The movie is not that awfully bad not that terribly bad!')"
   ]
  },
  {
   "cell_type": "code",
   "execution_count": 13,
   "metadata": {},
   "outputs": [],
   "source": [
    "def not_bad(s):\n",
    "    notindex = s.find('not')\n",
    "    if notindex != -1:\n",
    "        if s.find('bad') != -1:\n",
    "            badindex = s.find('bad') + 3\n",
    "            if notindex < badindex:\n",
    "                removetext = s[notindex:badindex]\n",
    "                return s.replace(removetext, 'good')\n",
    "    return s"
   ]
  },
  {
   "cell_type": "code",
   "execution_count": 17,
   "metadata": {},
   "outputs": [],
   "source": [
    "def not_bad(s):\n",
    "    notindex = s.find('not')\n",
    "    if notindex != -1:\n",
    "        if s.find('bad') != -1:\n",
    "            badindex = s.find('bad')+3\n",
    "            if notindex < badindex:\n",
    "                removetext = s[notindex:badindex]\n",
    "                return s.replace(removetext, 'good')\n",
    "    return s"
   ]
  },
  {
   "cell_type": "code",
   "execution_count": 29,
   "metadata": {},
   "outputs": [],
   "source": [
    "#thing that ended up working for #24\n",
    "def not_bad( s ):\n",
    "    end = s.split( \"bad\" )\n",
    "    beginning = end[0].split( \"not\" )\n",
    "    if len(end) > 1 and 1 < len(beginning):\n",
    "        return beginning[0] + \"good\" + \"bad\".join(end[1:])\n",
    "    return s"
   ]
  },
  {
   "cell_type": "code",
   "execution_count": 30,
   "metadata": {},
   "outputs": [
    {
     "data": {
      "text/plain": [
       "'The movie is ,good, !'"
      ]
     },
     "execution_count": 30,
     "metadata": {},
     "output_type": "execute_result"
    }
   ],
   "source": [
    "not_bad('The movie is ,not, greatly, bad, !')"
   ]
  },
  {
   "cell_type": "code",
   "execution_count": 548,
   "metadata": {},
   "outputs": [],
   "source": [
    "def front_back(s1, s2):\n",
    "    final = \"\"\n",
    "    if len(s1)%2==0:\n",
    "        len1 = int(len(s1)/2)\n",
    "        final = final + s1[:len1]\n",
    "        if len(s2)%2==0:\n",
    "            len2 = int(len(s2)/2)\n",
    "            final = final + s2[:len2]+s1[len1:]+s2[len2:]\n",
    "        else:\n",
    "            len22 = int(len(s2)/2+1)\n",
    "            final = final + s2[:len22]+s1[len1:]+s2[len22:]\n",
    "    else:\n",
    "        len11=int(len(s1)/2+1)\n",
    "        final = final + s1[:len11]\n",
    "        if len(s2)%2==0:\n",
    "            final = final + s2[:len2]+s1[len11:]+s2[len2:]\n",
    "        else:\n",
    "            len22 = int(len(s2)/2+1)\n",
    "            final = final + s2[:len22]+s1[len11:]+s2[len22:]\n",
    "    return final"
   ]
  },
  {
   "cell_type": "code",
   "execution_count": 549,
   "metadata": {},
   "outputs": [
    {
     "data": {
      "text/plain": [
       "'abcxydez'"
      ]
     },
     "execution_count": 549,
     "metadata": {},
     "output_type": "execute_result"
    }
   ],
   "source": [
    "front_back('abcde', 'xyz')"
   ]
  },
  {
   "cell_type": "code",
   "execution_count": 558,
   "metadata": {},
   "outputs": [],
   "source": [
    "def match_ends(s):\n",
    "    counting = 0\n",
    "    for word in s:\n",
    "        if len(word)>0 and word[0]==word[-1] and len(word)>=2:\n",
    "            counting = counting +1\n",
    "    return counting"
   ]
  },
  {
   "cell_type": "code",
   "execution_count": 559,
   "metadata": {},
   "outputs": [
    {
     "data": {
      "text/plain": [
       "3"
      ]
     },
     "execution_count": 559,
     "metadata": {},
     "output_type": "execute_result"
    }
   ],
   "source": [
    "match_ends(['aaaaa','ancd', 'hello', 'beb', 'aa', ''])"
   ]
  },
  {
   "cell_type": "code",
   "execution_count": 647,
   "metadata": {},
   "outputs": [],
   "source": [
    "def front_x(words):\n",
    "    xlist = []\n",
    "    list1 = []\n",
    "    for word in words:\n",
    "        if word.startswith('x'):\n",
    "            xlist.append(word)\n",
    "        else:\n",
    "            list1.append(word)\n",
    "    xlist.sort()\n",
    "    list1.sort()\n",
    "    mixed_list = xlist + list1\n",
    "    return mixed_list"
   ]
  },
  {
   "cell_type": "code",
   "execution_count": 648,
   "metadata": {},
   "outputs": [
    {
     "data": {
      "text/plain": [
       "['xanadu', 'xyz', 'aadvark', 'apple', 'mix']"
      ]
     },
     "execution_count": 648,
     "metadata": {},
     "output_type": "execute_result"
    }
   ],
   "source": [
    "front_x(['mix', 'xyz', 'apple', 'xanadu', 'aadvark'])"
   ]
  },
  {
   "cell_type": "code",
   "execution_count": 654,
   "metadata": {},
   "outputs": [],
   "source": [
    "def sort_last(tuples):\n",
    "    sorted_by_last = sorted(tuples, key=lambda tup: tup[-1])\n",
    "    return sorted_by_last"
   ]
  },
  {
   "cell_type": "code",
   "execution_count": 655,
   "metadata": {},
   "outputs": [
    {
     "data": {
      "text/plain": [
       "[(1, 2), (0, 1, 2, 3), (35, 6, 9)]"
      ]
     },
     "execution_count": 655,
     "metadata": {},
     "output_type": "execute_result"
    }
   ],
   "source": [
    "sort_last([(1,2),(35,6,9),(0,1,2,3)])"
   ]
  },
  {
   "cell_type": "code",
   "execution_count": 664,
   "metadata": {},
   "outputs": [],
   "source": [
    "def remove_adjacent(nums):\n",
    "    result = []\n",
    "    if len(nums) > 0:\n",
    "        result = [nums[0]]\n",
    "    for i in range(len(nums)-1):\n",
    "        if nums[i] != nums[i+1]:\n",
    "            result.append(nums[i+1])\n",
    "    return result"
   ]
  },
  {
   "cell_type": "code",
   "execution_count": 665,
   "metadata": {},
   "outputs": [
    {
     "data": {
      "text/plain": [
       "[2, 3, 4, 5, 6, 7, 6, 5, 6, 7]"
      ]
     },
     "execution_count": 665,
     "metadata": {},
     "output_type": "execute_result"
    }
   ],
   "source": [
    "remove_adjacent([2,3,3,4,5,6,6,7,6,5,5,6,7])"
   ]
  },
  {
   "cell_type": "code",
   "execution_count": 669,
   "metadata": {},
   "outputs": [],
   "source": [
    "def linear_merge(list1, list2):\n",
    "    merged_list = sorted(list1 + list2)\n",
    "    return merged_list"
   ]
  },
  {
   "cell_type": "code",
   "execution_count": 670,
   "metadata": {},
   "outputs": [
    {
     "data": {
      "text/plain": [
       "['aa', 'bb', 'cc', 'dd', 'ff']"
      ]
     },
     "execution_count": 670,
     "metadata": {},
     "output_type": "execute_result"
    }
   ],
   "source": [
    "linear_merge(['aa','dd','cc'],['bb', 'ff'])"
   ]
  },
  {
   "cell_type": "code",
   "execution_count": 70,
   "metadata": {},
   "outputs": [],
   "source": [
    "#31 - PARSING\n",
    "import sys\n",
    "import os\n",
    "import csv\n",
    "\n",
    "\n",
    "text = '''Team,Games,Wins,Losses,Draws,Goals,Goals Allowed,Points\n",
    "Arsenal,38,26,9,3,79,36,87\n",
    "Liverpool,38,24,8,6,67,30,80\n",
    "Manchester United,38,24,5,9,87,45,77\n",
    "Newcastle,38,21,8,9,74,52,71\n",
    "Leeds,38,18,12,8,53,37,66\n",
    "Chelsea,38,17,13,8,66,38,64\n",
    "West_Ham,38,15,8,15,48,57,53\n",
    "Aston_Villa,38,12,14,12,46,47,50\n",
    "Tottenham,38,14,8,16,49,53,50\n",
    "Blackburn,38,12,10,16,55,51,46\n",
    "Southampton,38,12,9,17,46,54,45\n",
    "Middlesbrough,38,12,9,17,35,47,45\n",
    "Fulham,38,10,14,14,36,44,44\n",
    "Charlton,38,10,14,14,38,49,44\n",
    "Everton,38,11,10,17,45,57,43\n",
    "Bolton,38,9,13,16,44,62,40\n",
    "Sunderland,38,10,10,18,29,51,40\n",
    "Ipswich,38,9,9,20,41,64,36\n",
    "Derby,38,8,6,24,33,63,30\n",
    "Leicester,38,5,13,20,30,64,28'''\n",
    "\n",
    "with open('football.csv', 'w') as f:\n",
    "    f.write(text)\n",
    "\n",
    "\n",
    "# The football.csv file contains the results from the English Premier League.\n",
    "# The columns labeled ‘Goals’ and ‘Goals Allowed’ contain the total number of\n",
    "# goals scored for and against each team in that season (so Arsenal scored 79 goals\n",
    "# against opponents, and had 36 goals scored against them). Write a program to read the file,\n",
    "# then print the name of the team with the smallest difference in ‘for’ and ‘against’ goals.\n",
    "\n",
    "# Don't use pandas.\n",
    "\n",
    "# Following functions will be called like this:\n",
    "#   footballTable = read_data('football.csv')\n",
    "#   minRow = get_index_with_min_abs_score_difference(footballTable)\n",
    "#   print str(get_team(minRow, footballTable))\n",
    "\n",
    "\n",
    "\n",
    "\n",
    "def read_data(filename):\n",
    "    with open('football.csv', 'rt') as ifile:                                       \n",
    "        footballTable = csv.DictReader(ifile)                                       \n",
    "        for row in footballTable:                                                   \n",
    "            print (row)\n",
    "\n",
    "\n",
    "def get_index_with_min_abs_score_difference(footballTable):\n",
    "    net_goals = []\n",
    "\n",
    "    for i in goals[1:]:\n",
    "        net_goals.append(int(i['Goals']) - int(i['Goals Allowed']))\n",
    "\n",
    "    return net_goals.index(min(net_goals))+1\n",
    "    \n",
    "    \n",
    "    \n",
    "    \n",
    "    \n",
    "  #  \"\"\"Returns the index of the team with the smallest difference\n",
    "   # between 'for' and 'against' goals, in terms of absolute value.\n",
    "\n",
    "    #Arguments: parsed_data is a list of lists of cleaned strings\n",
    "   # Returns: integer row index\n",
    "   # \"\"\"\n",
    "    \n",
    "    \n",
    "#def get_team(index_value, parsed_data):\n",
    " #   \"\"\"Returns the team name at a given index.\n",
    "    \n",
    "  #  Arguments: index_value is an integer row index\n",
    "              # parsed_data is the output of `read_data` above\n",
    "               \n",
    "   # Returns: the team name\n",
    "   # \"\"\"\n",
    "\n",
    "#footballTable = read_data('football.csv')\n",
    "#minRow = get_index_with_min_abs_score_difference(footballTable)\n",
    "#print(str(get_team(minRow, footballTable)))\n"
   ]
  },
  {
   "cell_type": "code",
   "execution_count": 71,
   "metadata": {},
   "outputs": [
    {
     "name": "stdout",
     "output_type": "stream",
     "text": [
      "OrderedDict([('Team', 'Arsenal'), ('Games', '38'), ('Wins', '26'), ('Losses', '9'), ('Draws', '3'), ('Goals', '79'), ('Goals Allowed', '36'), ('Points', '87')])\n",
      "OrderedDict([('Team', 'Liverpool'), ('Games', '38'), ('Wins', '24'), ('Losses', '8'), ('Draws', '6'), ('Goals', '67'), ('Goals Allowed', '30'), ('Points', '80')])\n",
      "OrderedDict([('Team', 'Manchester United'), ('Games', '38'), ('Wins', '24'), ('Losses', '5'), ('Draws', '9'), ('Goals', '87'), ('Goals Allowed', '45'), ('Points', '77')])\n",
      "OrderedDict([('Team', 'Newcastle'), ('Games', '38'), ('Wins', '21'), ('Losses', '8'), ('Draws', '9'), ('Goals', '74'), ('Goals Allowed', '52'), ('Points', '71')])\n",
      "OrderedDict([('Team', 'Leeds'), ('Games', '38'), ('Wins', '18'), ('Losses', '12'), ('Draws', '8'), ('Goals', '53'), ('Goals Allowed', '37'), ('Points', '66')])\n",
      "OrderedDict([('Team', 'Chelsea'), ('Games', '38'), ('Wins', '17'), ('Losses', '13'), ('Draws', '8'), ('Goals', '66'), ('Goals Allowed', '38'), ('Points', '64')])\n",
      "OrderedDict([('Team', 'West_Ham'), ('Games', '38'), ('Wins', '15'), ('Losses', '8'), ('Draws', '15'), ('Goals', '48'), ('Goals Allowed', '57'), ('Points', '53')])\n",
      "OrderedDict([('Team', 'Aston_Villa'), ('Games', '38'), ('Wins', '12'), ('Losses', '14'), ('Draws', '12'), ('Goals', '46'), ('Goals Allowed', '47'), ('Points', '50')])\n",
      "OrderedDict([('Team', 'Tottenham'), ('Games', '38'), ('Wins', '14'), ('Losses', '8'), ('Draws', '16'), ('Goals', '49'), ('Goals Allowed', '53'), ('Points', '50')])\n",
      "OrderedDict([('Team', 'Blackburn'), ('Games', '38'), ('Wins', '12'), ('Losses', '10'), ('Draws', '16'), ('Goals', '55'), ('Goals Allowed', '51'), ('Points', '46')])\n",
      "OrderedDict([('Team', 'Southampton'), ('Games', '38'), ('Wins', '12'), ('Losses', '9'), ('Draws', '17'), ('Goals', '46'), ('Goals Allowed', '54'), ('Points', '45')])\n",
      "OrderedDict([('Team', 'Middlesbrough'), ('Games', '38'), ('Wins', '12'), ('Losses', '9'), ('Draws', '17'), ('Goals', '35'), ('Goals Allowed', '47'), ('Points', '45')])\n",
      "OrderedDict([('Team', 'Fulham'), ('Games', '38'), ('Wins', '10'), ('Losses', '14'), ('Draws', '14'), ('Goals', '36'), ('Goals Allowed', '44'), ('Points', '44')])\n",
      "OrderedDict([('Team', 'Charlton'), ('Games', '38'), ('Wins', '10'), ('Losses', '14'), ('Draws', '14'), ('Goals', '38'), ('Goals Allowed', '49'), ('Points', '44')])\n",
      "OrderedDict([('Team', 'Everton'), ('Games', '38'), ('Wins', '11'), ('Losses', '10'), ('Draws', '17'), ('Goals', '45'), ('Goals Allowed', '57'), ('Points', '43')])\n",
      "OrderedDict([('Team', 'Bolton'), ('Games', '38'), ('Wins', '9'), ('Losses', '13'), ('Draws', '16'), ('Goals', '44'), ('Goals Allowed', '62'), ('Points', '40')])\n",
      "OrderedDict([('Team', 'Sunderland'), ('Games', '38'), ('Wins', '10'), ('Losses', '10'), ('Draws', '18'), ('Goals', '29'), ('Goals Allowed', '51'), ('Points', '40')])\n",
      "OrderedDict([('Team', 'Ipswich'), ('Games', '38'), ('Wins', '9'), ('Losses', '9'), ('Draws', '20'), ('Goals', '41'), ('Goals Allowed', '64'), ('Points', '36')])\n",
      "OrderedDict([('Team', 'Derby'), ('Games', '38'), ('Wins', '8'), ('Losses', '6'), ('Draws', '24'), ('Goals', '33'), ('Goals Allowed', '63'), ('Points', '30')])\n",
      "OrderedDict([('Team', 'Leicester'), ('Games', '38'), ('Wins', '5'), ('Losses', '13'), ('Draws', '20'), ('Goals', '30'), ('Goals Allowed', '64'), ('Points', '28')])\n"
     ]
    }
   ],
   "source": [
    "footballTable = read_data('football.csv')"
   ]
  },
  {
   "cell_type": "code",
   "execution_count": 72,
   "metadata": {},
   "outputs": [
    {
     "ename": "NameError",
     "evalue": "name 'goals' is not defined",
     "output_type": "error",
     "traceback": [
      "\u001b[0;31m---------------------------------------------------------------------------\u001b[0m",
      "\u001b[0;31mNameError\u001b[0m                                 Traceback (most recent call last)",
      "\u001b[0;32m<ipython-input-72-9121c39f38ae>\u001b[0m in \u001b[0;36m<module>\u001b[0;34m\u001b[0m\n\u001b[0;32m----> 1\u001b[0;31m \u001b[0mget_index_with_min_abs_score_difference\u001b[0m\u001b[0;34m(\u001b[0m\u001b[0mfootballTable\u001b[0m\u001b[0;34m)\u001b[0m\u001b[0;34m\u001b[0m\u001b[0;34m\u001b[0m\u001b[0m\n\u001b[0m",
      "\u001b[0;32m<ipython-input-70-03d6aacdbf0c>\u001b[0m in \u001b[0;36mget_index_with_min_abs_score_difference\u001b[0;34m(footballTable)\u001b[0m\n\u001b[1;32m     57\u001b[0m     \u001b[0mnet_goals\u001b[0m \u001b[0;34m=\u001b[0m \u001b[0;34m[\u001b[0m\u001b[0;34m]\u001b[0m\u001b[0;34m\u001b[0m\u001b[0;34m\u001b[0m\u001b[0m\n\u001b[1;32m     58\u001b[0m \u001b[0;34m\u001b[0m\u001b[0m\n\u001b[0;32m---> 59\u001b[0;31m     \u001b[0;32mfor\u001b[0m \u001b[0mi\u001b[0m \u001b[0;32min\u001b[0m \u001b[0mgoals\u001b[0m\u001b[0;34m[\u001b[0m\u001b[0;36m1\u001b[0m\u001b[0;34m:\u001b[0m\u001b[0;34m]\u001b[0m\u001b[0;34m:\u001b[0m\u001b[0;34m\u001b[0m\u001b[0;34m\u001b[0m\u001b[0m\n\u001b[0m\u001b[1;32m     60\u001b[0m         \u001b[0mnet_goals\u001b[0m\u001b[0;34m.\u001b[0m\u001b[0mappend\u001b[0m\u001b[0;34m(\u001b[0m\u001b[0mint\u001b[0m\u001b[0;34m(\u001b[0m\u001b[0mi\u001b[0m\u001b[0;34m[\u001b[0m\u001b[0;34m'Goals'\u001b[0m\u001b[0;34m]\u001b[0m\u001b[0;34m)\u001b[0m \u001b[0;34m-\u001b[0m \u001b[0mint\u001b[0m\u001b[0;34m(\u001b[0m\u001b[0mi\u001b[0m\u001b[0;34m[\u001b[0m\u001b[0;34m'Goals Allowed'\u001b[0m\u001b[0;34m]\u001b[0m\u001b[0;34m)\u001b[0m\u001b[0;34m)\u001b[0m\u001b[0;34m\u001b[0m\u001b[0;34m\u001b[0m\u001b[0m\n\u001b[1;32m     61\u001b[0m \u001b[0;34m\u001b[0m\u001b[0m\n",
      "\u001b[0;31mNameError\u001b[0m: name 'goals' is not defined"
     ]
    }
   ],
   "source": [
    "get_index_with_min_abs_score_difference(footballTable)"
   ]
  },
  {
   "cell_type": "code",
   "execution_count": null,
   "metadata": {},
   "outputs": [],
   "source": []
  },
  {
   "cell_type": "code",
   "execution_count": null,
   "metadata": {},
   "outputs": [],
   "source": []
  },
  {
   "cell_type": "code",
   "execution_count": null,
   "metadata": {},
   "outputs": [],
   "source": []
  },
  {
   "cell_type": "code",
   "execution_count": null,
   "metadata": {},
   "outputs": [],
   "source": []
  },
  {
   "cell_type": "code",
   "execution_count": null,
   "metadata": {},
   "outputs": [],
   "source": []
  },
  {
   "cell_type": "code",
   "execution_count": 698,
   "metadata": {},
   "outputs": [],
   "source": [
    "def intersect_lists_2(list1, list2):\n",
    "    return list(set(list1) & set(list2))"
   ]
  },
  {
   "cell_type": "code",
   "execution_count": 699,
   "metadata": {},
   "outputs": [],
   "source": [
    "def intersect_lists_1(list1, list2):\n",
    "    return [x for x in list1 if x in list2]"
   ]
  },
  {
   "cell_type": "code",
   "execution_count": 700,
   "metadata": {},
   "outputs": [
    {
     "data": {
      "text/plain": [
       "[1, 2, 3, 4, 5, 6, 5, 4, 4, 4, 6]"
      ]
     },
     "execution_count": 700,
     "metadata": {},
     "output_type": "execute_result"
    }
   ],
   "source": [
    "intersect_lists_1([1,2,3,4,5,6,5,4,4,4,6,89], [1,2,4,5,6,7,8,9,0,1,2,3,2,3])"
   ]
  },
  {
   "cell_type": "code",
   "execution_count": 701,
   "metadata": {},
   "outputs": [
    {
     "data": {
      "text/plain": [
       "[1, 2, 3, 4, 5, 6]"
      ]
     },
     "execution_count": 701,
     "metadata": {},
     "output_type": "execute_result"
    }
   ],
   "source": [
    "intersect_lists_2([1,2,3,4,5,6,5,4,4,4,6,89], [1,2,4,5,6,7,8,9,0,1,2,3,2,3])"
   ]
  },
  {
   "cell_type": "code",
   "execution_count": 722,
   "metadata": {},
   "outputs": [],
   "source": [
    "def remove_duplicates(somelist):\n",
    "    return set(somelist)"
   ]
  },
  {
   "cell_type": "code",
   "execution_count": 723,
   "metadata": {},
   "outputs": [
    {
     "data": {
      "text/plain": [
       "{1, 2, 3, 4, 5, 6, 7, 8}"
      ]
     },
     "execution_count": 723,
     "metadata": {},
     "output_type": "execute_result"
    }
   ],
   "source": [
    "remove_duplicates([1,2,3,4,5,6,7,5,6,7,8,3,2,1,2,3,4,6,7,7])"
   ]
  },
  {
   "cell_type": "code",
   "execution_count": null,
   "metadata": {},
   "outputs": [],
   "source": [
    "# need to solve #24 and #31.\n",
    "# go over all Complexity Questions to make sure those are correct.\n",
    "# review the rest of the answers."
   ]
  },
  {
   "cell_type": "code",
   "execution_count": 106,
   "metadata": {},
   "outputs": [
    {
     "name": "stdout",
     "output_type": "stream",
     "text": [
      "Aston_Villa\n"
     ]
    }
   ],
   "source": [
    "import sys\n",
    "import os\n",
    "import csv\n",
    "\n",
    "text = '''Team,Games,Wins,Losses,Draws,Goals,Goals Allowed,Points\n",
    "Arsenal,38,26,9,3,79,36,87\n",
    "Liverpool,38,24,8,6,67,30,80\n",
    "Manchester United,38,24,5,9,87,45,77\n",
    "Newcastle,38,21,8,9,74,52,71\n",
    "Leeds,38,18,12,8,53,37,66\n",
    "Chelsea,38,17,13,8,66,38,64\n",
    "West_Ham,38,15,8,15,48,57,53\n",
    "Aston_Villa,38,12,14,12,46,47,50\n",
    "Tottenham,38,14,8,16,49,53,50\n",
    "Blackburn,38,12,10,16,55,51,46\n",
    "Southampton,38,12,9,17,46,54,45\n",
    "Middlesbrough,38,12,9,17,35,47,45\n",
    "Fulham,38,10,14,14,36,44,44\n",
    "Charlton,38,10,14,14,38,49,44\n",
    "Everton,38,11,10,17,45,57,43\n",
    "Bolton,38,9,13,16,44,62,40\n",
    "Sunderland,38,10,10,18,29,51,40\n",
    "Ipswich,38,9,9,20,41,64,36\n",
    "Derby,38,8,6,24,33,63,30\n",
    "Leicester,38,5,13,20,30,64,28'''\n",
    "\n",
    "with open('football.csv', 'w') as f:\n",
    "    f.write(text)\n",
    "\n",
    "\n",
    "\n",
    "def read_data(filename):\n",
    "    \"\"\"Returns a list of lists representing the rows of the csv file data.\n",
    "\n",
    "    Arguments: filename is the name of a csv file (as a string)\n",
    "    Returns: list of lists of strings, where every line is split into a list of values. \n",
    "        ex: ['Arsenal', 38, 26, 9, 3, 79, 36, 87]\n",
    "    \"\"\" \n",
    "    ifile = open('football.csv', 'rt')\n",
    "    reader = csv.reader(ifile)\n",
    "\n",
    "    listed = []\n",
    "    for row in reader:\n",
    "        listed.append(row)\n",
    "\n",
    "    return listed\n",
    "\n",
    "def get_index_with_min_abs_score_difference(footballTable):\n",
    "    net_goals = []\n",
    "\n",
    "    for i in footballTable[1:]:\n",
    "        net_goals.append(int(i[5]) - int(i[6]))\n",
    "    abs_goals = [abs(goals) for goals in net_goals]\n",
    "    min_abs_goals = min(abs_goals)\n",
    "    final = int(abs_goals.index(min_abs_goals))\n",
    "    return(final+1)\n",
    "    \n",
    "def get_team(index_value, parsed_data):\n",
    "    return parsed_data[index_value][0]\n",
    "\n",
    "footballTable = read_data('football.csv')\n",
    "minRow = get_index_with_min_abs_score_difference(footballTable)\n",
    "print(str(get_team(minRow, footballTable)))"
   ]
  },
  {
   "cell_type": "code",
   "execution_count": null,
   "metadata": {},
   "outputs": [],
   "source": []
  }
 ],
 "metadata": {
  "kernelspec": {
   "display_name": "Python 3",
   "language": "python",
   "name": "python3"
  },
  "language_info": {
   "codemirror_mode": {
    "name": "ipython",
    "version": 3
   },
   "file_extension": ".py",
   "mimetype": "text/x-python",
   "name": "python",
   "nbconvert_exporter": "python",
   "pygments_lexer": "ipython3",
   "version": "3.7.2"
  }
 },
 "nbformat": 4,
 "nbformat_minor": 2
}
